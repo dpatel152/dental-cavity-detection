{
 "cells": [
  {
   "cell_type": "code",
   "execution_count": null,
   "id": "a2c051da-ee2f-4130-b694-bdd97c34339a",
   "metadata": {},
   "outputs": [],
   "source": [
    "import glob, pandas as pd\n",
    "records = []\n",
    "for txt in glob.glob(\"data/valid/labels/*.txt\"):\n",
    "    fname = os.path.basename(txt).replace('.txt', '.jpg')\n",
    "    with open(txt) as f:\n",
    "        for line in f:\n",
    "            cls, xc, yc, w, h = line.strip().split()\n",
    "            records.append({'filename': fname, 'class': int(cls),\n",
    "                            'xc':float(xc), 'yc':float(yc),\n",
    "                            'width':float(w), 'height':float(h)})\n",
    "df = pd.DataFrame(records)\n",
    "print(\"Label counts:\", df['class'].value_counts())\n",
    "\n",
    "#%% EDA plots\n",
    "import matplotlib.pyplot as plt\n",
    "plt.hist(df['width'], bins=20); plt.title(\"Normalized bbox width distribution\")\n",
    "plt.show()\n",
    "\n",
    "#%% Visual overlay example\n",
    "import cv2\n",
    "import random\n",
    "row = df.sample(1).iloc[0]\n",
    "img = cv2.imread(f\"data/valid/images/{row.filename}\")\n",
    "h, w = img.shape[:2]\n",
    "x1 = int((row.xc - row.width/2)*w)\n",
    "y1 = int((row.yc - row.height/2)*h)\n",
    "x2 = int((row.xc + row.width/2)*w)\n",
    "y2 = int((row.yc + row.height/2)*h)\n",
    "cv2.rectangle(img, (x1,y1),(x2,y2),(0,255,0),2)\n",
    "plt.imshow(cv2.cvtColor(img, cv2.COLOR_BGR2RGB)); plt.axis('off'); plt.show()\n",
    "\n",
    "#%% YOLOv5 training via Ultralytics\n",
    "!pip install ultralytics\n",
    "from ultralytics import YOLO\n",
    "model = YOLO('yolov5s.pt')\n",
    "model.train(data={'train':'data/valid/images','val':'data/valid/images'},\n",
    "            imgsz=640, epochs=10, batch=8)\n",
    "\n",
    "#%% Evaluation\n",
    "metrics = model.val()\n",
    "print(metrics.box.map50, metrics.box.precision, metrics.box.recall)\n"
   ]
  },
  {
   "cell_type": "code",
   "execution_count": null,
   "id": "89d7f41b-3f26-4841-b70f-ae7270fa1041",
   "metadata": {},
   "outputs": [],
   "source": []
  }
 ],
 "metadata": {
  "kernelspec": {
   "display_name": "Python (emotion-env)",
   "language": "python",
   "name": "emotion-env"
  },
  "language_info": {
   "name": ""
  }
 },
 "nbformat": 4,
 "nbformat_minor": 5
}
